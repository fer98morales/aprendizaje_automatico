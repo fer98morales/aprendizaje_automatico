{
 "cells": [
  {
   "cell_type": "code",
   "execution_count": 114,
   "metadata": {},
   "outputs": [],
   "source": [
    "# Función para calcular la media de una lista de datos\n",
    "def media(datos):\n",
    "    \"\"\"\n",
    "    Calcula la media de una lista de datos numéricos.\n",
    "\n",
    "    Args:\n",
    "    datos (list): Lista de números para calcular la media.\n",
    "\n",
    "    Returns:\n",
    "    float: La media de los datos.\n",
    "    \"\"\"\n",
    "    if all(isinstance(x, (int, float)) for x in datos):\n",
    "        return sum(datos) / len(datos)\n",
    "    else:\n",
    "        raise ValueError(\"La lista debe contener solo números (int o float).\")\n",
    "    "
   ]
  },
  {
   "cell_type": "code",
   "execution_count": 115,
   "metadata": {},
   "outputs": [],
   "source": [
    "# Función para calcular la mediana de una lista de datos\n",
    "def mediana(datos):\n",
    "    \"\"\"\n",
    "    Calcula la mediana de una lista de datos numéricos.\n",
    "\n",
    "    Args:\n",
    "    datos (list): Lista de números para calcular la mediana.\n",
    "\n",
    "    Returns:\n",
    "    float: La mediana de los datos.\n",
    "    \"\"\"\n",
    "    if all(isinstance(x, (int, float)) for x in datos):\n",
    "        X = sorted(datos)\n",
    "        n = int(len(datos))\n",
    "        if n % 2 == 0:\n",
    "            X_n1 = X[int(len(datos) / 2) - 1]\n",
    "            X_n2 = X[int(len(datos) / 2)]\n",
    "            return (X_n1 + X_n2) / 2\n",
    "        else:\n",
    "            X_n1n = X[int(len(datos) / 2)]\n",
    "            return X_n1n\n",
    "    else:\n",
    "        raise ValueError(\"La lista debe contener solo números (int o float).\")"
   ]
  },
  {
   "cell_type": "code",
   "execution_count": 116,
   "metadata": {},
   "outputs": [],
   "source": [
    "# Función para calcular la moda de una lista de datos\n",
    "def moda(datos):\n",
    "    \"\"\"\n",
    "    Calcula la moda de una lista de datos numéricos.\n",
    "\n",
    "    Args:\n",
    "    datos (list): Lista de números para calcular la moda.\n",
    "\n",
    "    Returns:\n",
    "    list or None: Lista de valores moda (puede ser más de uno si hay empates), o None si no hay moda.\n",
    "    \"\"\"\n",
    "    if all(isinstance(x, (int, float)) for x in datos):\n",
    "        frecuencia = {}\n",
    "        for i in datos:\n",
    "            frecuencia[i] = len(list(filter(lambda dato: dato == i, datos)))\n",
    "\n",
    "        max_freq = max(frecuencia.values())\n",
    "\n",
    "        if max_freq == 1:\n",
    "            return None  # No hay moda cuando todos los valores tienen frecuencia 1.\n",
    "\n",
    "        max_keys = [key for key, value in frecuencia.items() if value == max_freq]\n",
    "        return max_keys\n",
    "    else:\n",
    "        raise ValueError(\"La lista debe contener solo números (int o float).\")\n"
   ]
  },
  {
   "cell_type": "code",
   "execution_count": 168,
   "metadata": {},
   "outputs": [
    {
     "name": "stdout",
     "output_type": "stream",
     "text": [
      "Lista de datos aleatorios: [45, 84, 67, 83, 77, 32, 88, 56, 23, 19, 48, 83, 99, 48, 12, 68, 51, 75, 50, 69]\n",
      "Media: 58.85\n",
      "Mediana: 61.5\n",
      "Moda: [83, 48]\n"
     ]
    }
   ],
   "source": [
    "# Ejemplo de uso\n",
    "import random\n",
    "\n",
    "# Generar una lista de datos aleatorios\n",
    "datos = [random.randint(1, 100) for _ in range(20)]\n",
    "\n",
    "print(\"Lista de datos aleatorios:\", datos)\n",
    "print(\"Media:\", media(datos))\n",
    "print(\"Mediana:\", mediana(datos))\n",
    "print(\"Moda:\", moda(datos))"
   ]
  }
 ],
 "metadata": {
  "kernelspec": {
   "display_name": "base",
   "language": "python",
   "name": "python3"
  },
  "language_info": {
   "codemirror_mode": {
    "name": "ipython",
    "version": 3
   },
   "file_extension": ".py",
   "mimetype": "text/x-python",
   "name": "python",
   "nbconvert_exporter": "python",
   "pygments_lexer": "ipython3",
   "version": "3.10.12"
  },
  "orig_nbformat": 4
 },
 "nbformat": 4,
 "nbformat_minor": 2
}
