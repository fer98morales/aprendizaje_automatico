{
 "cells": [
  {
   "cell_type": "markdown",
   "metadata": {},
   "source": [
    "# Definir un conjunto de datos\n",
    "El conjunto de datos que he elegido seran los Incidentes viales registrados en Monterrey en vías primarias y secundarias entre el 1 de enero de 2017 y el 30 de noviembre de 2022. Además complementare esta información con datos climatológicos.\n",
    "\n",
    "# Justificación de la elección del conjunto de datos\n",
    "**Relevancia:** Los incidentes viales son un tema importante en términos de seguridad ciudadana y movilidad. El análisis de estos datos puede proporcionar información valiosa para mejorar la seguridad en las vías de Monterrey.\n",
    "\n",
    "**Interés público:** Los incidentes viales afectan a la población en general, por lo que la disponibilidad de estos datos puede ser de interés para el público en general, así como para las autoridades y expertos en seguridad vial.\n",
    "\n",
    "**Potencial de análisis:** Combinar estos datos con información climatológica podría ayudar a identificar patrones y factores que contribuyen a los incidentes viales, como condiciones meteorológicas adversas.\n",
    "\n",
    "**Disponibilidad de datos:** Los datos de incidentes viales se obtienen de una fuente confiable y oficial, la Secretaría de Seguridad y Protección a la Ciudadanía, lo que garantiza su calidad y precisión.\n"
   ]
  },
  {
   "cell_type": "code",
   "execution_count": 5,
   "metadata": {},
   "outputs": [
    {
     "name": "stdout",
     "output_type": "stream",
     "text": [
      "      fecha   hora  tipo_accidente                  causa  folio  \\\n",
      "0  01/01/17   0:49  ESTRELLAMIENTO                   OTRO  32858   \n",
      "1  01/01/17  23:02         LATERAL     INVASION DE CARRIL  32857   \n",
      "2  01/01/17  21:48            OTRO    NO GUARDO DISTANCIA  34349   \n",
      "3  01/01/17   8:22            OTRO     INVASION DE CARRIL  34888   \n",
      "4  01/01/17   6:08            OTRO                   OTRO  34310   \n",
      "5  01/01/17   8:55  ESTRELLAMIENTO                   OTRO  34926   \n",
      "6  01/01/17  12:03  ESTRELLAMIENTO                   OTRO  34550   \n",
      "7  01/01/17  10:09  ESTRELLAMIENTO                   OTRO  34426   \n",
      "8  01/01/17   8:34  ESTRELLAMIENTO                   OTRO  34401   \n",
      "9  01/01/17   7:22         ALCANCE  ESTADO DE ALCOHOLISMO  34589   \n",
      "\n",
      "    tipo_vialidad       nombre_vialidad                 cruce  \\\n",
      "0    VIA PRIMARIA       LUIS ECHEVERRIA  MARIA GARZA CORONADO   \n",
      "1    VIA PRIMARIA                LEONES         CUMBRES ELITE   \n",
      "2    VIA PRIMARIA  FERNANDO GARCIA ROEL            GARZA SADA   \n",
      "3    VIA PRIMARIA         RUIZ CORTINES                SABINO   \n",
      "4  VIA SECUNDARIA      BANCO DE FOMENTO            3a PRIVADA   \n",
      "5    VIA PRIMARIA           ISAAC GARZA                ARISTA   \n",
      "6    VIA PRIMARIA       MIGUEL BARRAGAN               ALVAREZ   \n",
      "7    VIA PRIMARIA                AZTLAN         NO REELECCION   \n",
      "8    VIA PRIMARIA         ROGELIO CANTU        PUERTA DEL SOL   \n",
      "9    VIA PRIMARIA                MADERO            CHURUBUSCO   \n",
      "\n",
      "              sentido                  colonia  ...  vehiculo3_edad  \\\n",
      "0  PONIENTE A ORIENTE            CARMEN SERDAN  ...             NaN   \n",
      "1  PONIENTE A ORIENTE            CUMBRES ELITE  ...             NaN   \n",
      "2  PONIENTE A ORIENTE              TECNOLOGICO  ...             NaN   \n",
      "3  PONIENTE A ORIENTE              VALLE VERDE  ...             NaN   \n",
      "4  PONIENTE A ORIENTE    PLUTARCO ELIAS CALLES  ...             NaN   \n",
      "5  ORIENTE A PONIENTE                   CENTRO  ...             NaN   \n",
      "6  ORIENTE A PONIENTE               INDUSTRIAL  ...             NaN   \n",
      "7         SUR A NORTE    PLUTARCO ELIAS CALLES  ...             NaN   \n",
      "8         SUR A NORTE  COLINAS DE SAN JERONIMO  ...             NaN   \n",
      "9         NORTE A SUR               CHURUBUSCO  ...             NaN   \n",
      "\n",
      "  vehiculo3_cinturon  vehiculo3_arresto  vehiculo3_lesionados  \\\n",
      "0                NaN                NaN                   NaN   \n",
      "1                NaN                NaN                   NaN   \n",
      "2                NaN                NaN                   NaN   \n",
      "3                NaN                NaN                   NaN   \n",
      "4                NaN                NaN                   NaN   \n",
      "5                NaN                NaN                   NaN   \n",
      "6                NaN                NaN                   NaN   \n",
      "7                NaN                NaN                   NaN   \n",
      "8                NaN                NaN                   NaN   \n",
      "9                NaN                NaN                   NaN   \n",
      "\n",
      "  vehiculo3_muertos  numero_infracciones  total_lesionados total_muertos  \\\n",
      "0               NaN                  NaN                 0             0   \n",
      "1               NaN                  NaN                 0             0   \n",
      "2               NaN                  NaN                 0             0   \n",
      "3               NaN                  NaN                 0             0   \n",
      "4               NaN                  NaN                 0             0   \n",
      "5               NaN                  NaN                 0             0   \n",
      "6               NaN                  NaN                 0             0   \n",
      "7               NaN                  NaN                 0             0   \n",
      "8               NaN                  NaN                 0             0   \n",
      "9               NaN                  NaN                 0             0   \n",
      "\n",
      "  situacion_climatica situacion_pavimento  \n",
      "0              NORMAL              NORMAL  \n",
      "1              LLUVIA           RESBALOSO  \n",
      "2              NORMAL              NORMAL  \n",
      "3              NORMAL              NORMAL  \n",
      "4              NORMAL              NORMAL  \n",
      "5              NORMAL              NORMAL  \n",
      "6              NORMAL              NORMAL  \n",
      "7              NORMAL              NORMAL  \n",
      "8              NORMAL              NORMAL  \n",
      "9              NORMAL              NORMAL  \n",
      "\n",
      "[10 rows x 52 columns]\n"
     ]
    }
   ],
   "source": [
    "import pandas as pd\n",
    "# Especifica el nombre del archivo CSV en la misma carpeta\n",
    "archivo_csv = \"incidentesviales_noviembre22.csv\"  # Reemplaza \"nombre_del_archivo.csv\" con el nombre de tu archivo CSV\n",
    "# Carga el archivo CSV en un DataFrame de pandas y lee solo las primeras 10 filas\n",
    "try:\n",
    "    df = pd.read_csv(archivo_csv, nrows=10)\n",
    "    # Puedes utilizar df.head(10) en lugar de nrows si prefieres.\n",
    "    # df.head(10) también mostrará las primeras 10 filas.\n",
    "    \n",
    "    # Muestra el contenido del DataFrame\n",
    "    print(df)\n",
    "except FileNotFoundError:\n",
    "    print(f\"No se pudo encontrar el archivo '{archivo_csv}' en la misma carpeta.\")\n",
    "except pd.errors.EmptyDataError:\n",
    "    print(f\"El archivo '{archivo_csv}' está vacío o no contiene datos.\")\n",
    "except pd.errors.ParserError:\n",
    "    print(f\"No se pudo analizar el archivo CSV '{archivo_csv}'. Comprueba su formato.\")\n"
   ]
  },
  {
   "cell_type": "markdown",
   "metadata": {},
   "source": [
    "# Objetivo de Aprendizaje Automático:\n",
    "Diseñar un modelo de aprendizaje automático capaz de predecir la probabilidad de que ocurran incidentes viales en el municipio de Monterrey en función de diversas variables, incluyendo datos climatológicos, hora del día, día de la semana y ubicación geográfica (latitud y longitud). Utilizar este modelo para generar un mapa de calor del municipio de Monterrey que muestre la probabilidad estimada de incidentes viales en diferentes áreas geográficas, lo que permitirá identificar las zonas de mayor riesgo."
   ]
  },
  {
   "cell_type": "markdown",
   "metadata": {},
   "source": [
    "## Fuentes de datos:\n",
    "Conjunto de datos de Incidentes Viales en Monterrey: https://datos.monterrey.gob.mx/dataset/incidentes-viales\n",
    "\n",
    "Información Climatológica: https://open-meteo.com/\n",
    "\n"
   ]
  }
 ],
 "metadata": {
  "kernelspec": {
   "display_name": "base",
   "language": "python",
   "name": "python3"
  },
  "language_info": {
   "codemirror_mode": {
    "name": "ipython",
    "version": 3
   },
   "file_extension": ".py",
   "mimetype": "text/x-python",
   "name": "python",
   "nbconvert_exporter": "python",
   "pygments_lexer": "ipython3",
   "version": "3.10.12"
  },
  "orig_nbformat": 4
 },
 "nbformat": 4,
 "nbformat_minor": 2
}
